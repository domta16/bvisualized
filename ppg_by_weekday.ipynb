{
 "cells": [
  {
   "cell_type": "code",
   "execution_count": 1,
   "metadata": {},
   "outputs": [],
   "source": [
    "import pandas as pd\n",
    "import seaborn as sns\n",
    "import matplotlib.pyplot as plt"
   ]
  },
  {
   "attachments": {},
   "cell_type": "markdown",
   "metadata": {},
   "source": [
    "# IMPORT"
   ]
  },
  {
   "cell_type": "code",
   "execution_count": 2,
   "metadata": {},
   "outputs": [],
   "source": [
    "df_scores1920 = pd.read_html('https://fbref.com/en/squads/32f3ee20/2019-2020/c20/Monchengladbach-Stats-Bundesliga#all_matchlogs')\n",
    "df_scores2021 = pd.read_html('https://fbref.com/en/squads/32f3ee20/2020-2021/c20/Monchengladbach-Stats-Bundesliga#all_matchlogs')\n",
    "df_scores2122 = pd.read_html('https://fbref.com/en/squads/32f3ee20/2021-2022/c20/Monchengladbach-Stats-Bundesliga#all_matchlogs')\n",
    "df_scores2223 = pd.read_html('https://fbref.com/en/squads/32f3ee20/2022-2023/c20/Monchengladbach-Stats-Bundesliga#all_matchlogs')"
   ]
  },
  {
   "attachments": {},
   "cell_type": "markdown",
   "metadata": {},
   "source": [
    "# PREPROCESSING"
   ]
  },
  {
   "attachments": {},
   "cell_type": "markdown",
   "metadata": {},
   "source": [
    "## Season 19/20"
   ]
  },
  {
   "cell_type": "code",
   "execution_count": 3,
   "metadata": {},
   "outputs": [],
   "source": [
    "df_scores1920 = df_scores1920[1]\n",
    "df_scores1920.insert(0, \"Matchday\", range(1, 1 + len(df_scores1920)))\n",
    "df_scores1920.insert(1, 'Season' , '19/20')\n",
    "df_scores1920 = df_scores1920.drop(['Match Report', 'Notes', 'Round'], axis=1)\n",
    "df_scores1920.loc[df_scores1920['Result'] == 'W', 'Points'] = '3' \n",
    "df_scores1920.loc[df_scores1920['Result'] == 'D', 'Points'] = '1' \n",
    "df_scores1920.loc[df_scores1920['Result'] == 'L', 'Points'] = '0' "
   ]
  },
  {
   "attachments": {},
   "cell_type": "markdown",
   "metadata": {},
   "source": [
    "## Season 20/21"
   ]
  },
  {
   "cell_type": "code",
   "execution_count": 4,
   "metadata": {},
   "outputs": [],
   "source": [
    "df_scores2021 = df_scores2021[1]\n",
    "df_scores2021.insert(0, \"Matchday\", range(1, 1 + len(df_scores2021)))\n",
    "df_scores2021.insert(1, 'Season' , '20/21')\n",
    "df_scores2021.loc[df_scores2021['Result'] == 'W', 'Points'] = '3' \n",
    "df_scores2021.loc[df_scores2021['Result'] == 'D', 'Points'] = '1' \n",
    "df_scores2021.loc[df_scores2021['Result'] == 'L', 'Points'] = '0' \n",
    "df_scores2021 = df_scores2021.drop(['Match Report', 'Notes', 'Round'], axis=1)"
   ]
  },
  {
   "attachments": {},
   "cell_type": "markdown",
   "metadata": {},
   "source": [
    "## Season 21/22"
   ]
  },
  {
   "cell_type": "code",
   "execution_count": 5,
   "metadata": {},
   "outputs": [],
   "source": [
    "df_scores2122 = df_scores2122[1]\n",
    "df_scores2122.insert(0, \"Matchday\", range(1, 1 + len(df_scores2122)))\n",
    "df_scores2122.insert(1, 'Season' , '21/22')\n",
    "df_scores2122.loc[df_scores2122['Result'] == 'W', 'Points'] = '3' \n",
    "df_scores2122.loc[df_scores2122['Result'] == 'D', 'Points'] = '1' \n",
    "df_scores2122.loc[df_scores2122['Result'] == 'L', 'Points'] = '0' \n",
    "df_scores2122 = df_scores2122.drop(['Match Report', 'Notes', 'Round'], axis=1)"
   ]
  },
  {
   "attachments": {},
   "cell_type": "markdown",
   "metadata": {},
   "source": [
    "## Season 22/23"
   ]
  },
  {
   "cell_type": "code",
   "execution_count": 6,
   "metadata": {},
   "outputs": [],
   "source": [
    "df_scores2223 = df_scores2223[1]\n",
    "df_scores2223.insert(0, \"Matchday\", range(1, 1 + len(df_scores2223)))\n",
    "df_scores2223.insert(1, 'Season' , '22/23')\n",
    "df_scores2223.loc[df_scores2223['Result'] == 'W', 'Points'] = '3' \n",
    "df_scores2223.loc[df_scores2223['Result'] == 'D', 'Points'] = '1' \n",
    "df_scores2223.loc[df_scores2223['Result'] == 'L', 'Points'] = '0' \n",
    "df_scores2223 = df_scores2223.drop(['Match Report', 'Notes', 'Round'], axis=1)"
   ]
  },
  {
   "attachments": {},
   "cell_type": "markdown",
   "metadata": {},
   "source": [
    "# Last four seasons"
   ]
  },
  {
   "cell_type": "code",
   "execution_count": 7,
   "metadata": {},
   "outputs": [],
   "source": [
    "dataframes = [df_scores1920, df_scores2021, df_scores2122, df_scores2223]\n",
    "df_last4seasons = pd.concat(dataframes)"
   ]
  },
  {
   "attachments": {},
   "cell_type": "markdown",
   "metadata": {},
   "source": [
    "## Fridays"
   ]
  },
  {
   "cell_type": "code",
   "execution_count": 8,
   "metadata": {},
   "outputs": [],
   "source": [
    "df_fridays = df_last4seasons.loc[df_last4seasons['Day'] == 'Fri']\n",
    "df_fridays = df_fridays.dropna(subset=['Result'])"
   ]
  },
  {
   "attachments": {},
   "cell_type": "markdown",
   "metadata": {},
   "source": [
    "## Saturdays"
   ]
  },
  {
   "cell_type": "code",
   "execution_count": 9,
   "metadata": {},
   "outputs": [],
   "source": [
    "df_saturday_noon = df_last4seasons.loc[(df_last4seasons['Day'] == 'Sat') & (df_last4seasons['Time'] == '15:30')]\n",
    "df_saturday_noon = df_saturday_noon.dropna(subset=['Result'])"
   ]
  },
  {
   "cell_type": "code",
   "execution_count": 10,
   "metadata": {},
   "outputs": [],
   "source": [
    "df_saturday_evening = df_last4seasons.loc[(df_last4seasons['Day'] == 'Sat') & (df_last4seasons['Time'] == '18:30')]\n",
    "df_saturday_evening = df_saturday_evening.dropna(subset=['Result'])"
   ]
  },
  {
   "cell_type": "code",
   "execution_count": 11,
   "metadata": {},
   "outputs": [],
   "source": [
    "df_saturdays = [df_saturday_noon, df_saturday_evening]\n",
    "df_saturdays = pd.concat(df_saturdays)"
   ]
  },
  {
   "attachments": {},
   "cell_type": "markdown",
   "metadata": {},
   "source": [
    "## Sundays"
   ]
  },
  {
   "cell_type": "code",
   "execution_count": 12,
   "metadata": {},
   "outputs": [],
   "source": [
    "df_sunday_noon = df_last4seasons.loc[(df_last4seasons['Day'] == 'Sun') & ((df_last4seasons['Time'] == '15:30') | (df_last4seasons['Time'] == '13:30'))]\n",
    "df_sunday_noon = df_sunday_noon.dropna(subset=['Result'])"
   ]
  },
  {
   "cell_type": "code",
   "execution_count": 13,
   "metadata": {},
   "outputs": [],
   "source": [
    "df_sunday_evening = df_last4seasons.loc[(df_last4seasons['Day'] == 'Sun') & ((df_last4seasons['Time'] == '17:30') | (df_last4seasons['Time'] == '18:00') | (df_last4seasons['Time'] == '19:30'))]\n",
    "df_sunday_evening = df_sunday_evening.dropna(subset=['Result'])"
   ]
  },
  {
   "cell_type": "code",
   "execution_count": 14,
   "metadata": {},
   "outputs": [],
   "source": [
    "df_sundays = [df_sunday_noon, df_sunday_evening]\n",
    "df_sundays = pd.concat(df_sundays)"
   ]
  },
  {
   "attachments": {},
   "cell_type": "markdown",
   "metadata": {},
   "source": [
    "## Weekgames"
   ]
  },
  {
   "cell_type": "code",
   "execution_count": 15,
   "metadata": {},
   "outputs": [],
   "source": [
    "df_weekgames = df_last4seasons.loc[(df_last4seasons['Day'] != 'Fri') & (df_last4seasons['Day'] != 'Sat') & (df_last4seasons['Day'] != 'Sun')]"
   ]
  },
  {
   "attachments": {},
   "cell_type": "markdown",
   "metadata": {},
   "source": [
    "## Points per game"
   ]
  },
  {
   "attachments": {},
   "cell_type": "markdown",
   "metadata": {},
   "source": [
    "## Fridays"
   ]
  },
  {
   "cell_type": "code",
   "execution_count": 16,
   "metadata": {},
   "outputs": [
    {
     "name": "stdout",
     "output_type": "stream",
     "text": [
      "Anzahl Freitagsspiele:  13\n",
      "Punkte Freitags gesamt:  23\n",
      "Punkte Freitags pro Spiel:  1.7692307692307692\n"
     ]
    }
   ],
   "source": [
    "df_fridays = df_fridays.astype({'Points':'int'})\n",
    "quantity_fridays = len(df_fridays.index)\n",
    "print(\"Anzahl Freitagsspiele: \" , quantity_fridays)\n",
    "points_fridays_total = (df_fridays['Points'].sum())\n",
    "print(\"Punkte Freitags gesamt: \" , points_fridays_total)\n",
    "ppg_fridays = points_fridays_total / len(df_fridays)\n",
    "print(\"Punkte Freitags pro Spiel: \" , ppg_fridays)"
   ]
  },
  {
   "attachments": {},
   "cell_type": "markdown",
   "metadata": {},
   "source": [
    "## Saturdays"
   ]
  },
  {
   "cell_type": "code",
   "execution_count": 17,
   "metadata": {},
   "outputs": [
    {
     "name": "stdout",
     "output_type": "stream",
     "text": [
      "Anzahl Samstagsspiele:  74\n",
      "Punkte Samstags gesamt:  110\n",
      "Punkte Samstags pro Spiel:  1.4864864864864864\n"
     ]
    }
   ],
   "source": [
    "df_saturdays = df_saturdays.astype({'Points':'int'})\n",
    "quantity_saturdays = len(df_saturdays.index)\n",
    "print(\"Anzahl Samstagsspiele: \" , quantity_saturdays)\n",
    "points_saturdays_total = (df_saturdays['Points'].sum())\n",
    "print(\"Punkte Samstags gesamt: \" , points_saturdays_total)\n",
    "ppg_saturdays = points_saturdays_total / len(df_saturdays)\n",
    "print(\"Punkte Samstags pro Spiel: \" , ppg_saturdays)"
   ]
  },
  {
   "attachments": {},
   "cell_type": "markdown",
   "metadata": {},
   "source": [
    "## Sundays"
   ]
  },
  {
   "cell_type": "code",
   "execution_count": 18,
   "metadata": {},
   "outputs": [
    {
     "name": "stdout",
     "output_type": "stream",
     "text": [
      "Anzahl Sonntagsspiele:  23\n",
      "Punkte Sonntags gesamt:  34\n",
      "Punkte Sonntags pro Spiel:  1.4782608695652173\n"
     ]
    }
   ],
   "source": [
    "df_sundays = df_sundays.astype({'Points':'int'})\n",
    "quantity_sundays = len(df_sundays.index)\n",
    "print(\"Anzahl Sonntagsspiele: \" , quantity_sundays)\n",
    "points_sundays_total = (df_sundays['Points'].sum())\n",
    "print(\"Punkte Sonntags gesamt: \" , points_sundays_total)\n",
    "ppg_sundays = points_sundays_total / len(df_sundays)\n",
    "print(\"Punkte Sonntags pro Spiel: \" , ppg_sundays)"
   ]
  },
  {
   "attachments": {},
   "cell_type": "markdown",
   "metadata": {},
   "source": [
    "## Weekdays"
   ]
  },
  {
   "cell_type": "code",
   "execution_count": 19,
   "metadata": {},
   "outputs": [
    {
     "name": "stdout",
     "output_type": "stream",
     "text": [
      "Anzahl Wochentagsspiele:  11\n",
      "Punkte Wochentags gesamt:  17\n",
      "Punkte Wochentags pro Spiel:  1.5454545454545454\n"
     ]
    }
   ],
   "source": [
    "df_weekgames = df_weekgames.astype({'Points':'int'})\n",
    "quantity_weekgames = len(df_weekgames.index)\n",
    "print(\"Anzahl Wochentagsspiele: \" , quantity_weekgames)\n",
    "points_weekgames_total = (df_weekgames['Points'].sum())\n",
    "print(\"Punkte Wochentags gesamt: \" , points_weekgames_total)\n",
    "ppg_weekgames = points_weekgames_total / len(df_weekgames)\n",
    "print(\"Punkte Wochentags pro Spiel: \" , ppg_weekgames)"
   ]
  },
  {
   "attachments": {},
   "cell_type": "markdown",
   "metadata": {},
   "source": [
    "## Sum results in dataframe"
   ]
  },
  {
   "cell_type": "code",
   "execution_count": 20,
   "metadata": {},
   "outputs": [],
   "source": [
    "columns = ['Wochentag', 'Anzahl Spiele', 'Punkte gesamt', 'Punkte pro Spiel']\n",
    "rows = ['Freitag', 'Samstag', 'Sonntag', 'Wochentag']\n",
    "data = [\n",
    "    ['Freitag', quantity_fridays, points_fridays_total, ppg_fridays],\n",
    "    ['Samstag', quantity_saturdays, points_saturdays_total, ppg_saturdays],\n",
    "    ['Sonntag', quantity_sundays, points_sundays_total, ppg_sundays],\n",
    "    ['Wochentags', quantity_weekgames, points_weekgames_total, ppg_weekgames],\n",
    "    ]\n",
    "comparison = pd.DataFrame(data, columns= columns)\n"
   ]
  },
  {
   "cell_type": "code",
   "execution_count": 21,
   "metadata": {},
   "outputs": [
    {
     "name": "stderr",
     "output_type": "stream",
     "text": [
      "/var/folders/4b/3hf4yyw565v_s647k9h0y9m40000gn/T/ipykernel_54776/3038282994.py:3: FutureWarning: The frame.append method is deprecated and will be removed from pandas in a future version. Use pandas.concat instead.\n",
      "  comparison = comparison.append(sum.transpose())\n"
     ]
    }
   ],
   "source": [
    "sum = comparison.sum()\n",
    "sum.name = 'Summe'\n",
    "comparison = comparison.append(sum.transpose())"
   ]
  },
  {
   "cell_type": "code",
   "execution_count": 22,
   "metadata": {},
   "outputs": [
    {
     "data": {
      "text/html": [
       "<div>\n",
       "<style scoped>\n",
       "    .dataframe tbody tr th:only-of-type {\n",
       "        vertical-align: middle;\n",
       "    }\n",
       "\n",
       "    .dataframe tbody tr th {\n",
       "        vertical-align: top;\n",
       "    }\n",
       "\n",
       "    .dataframe thead th {\n",
       "        text-align: right;\n",
       "    }\n",
       "</style>\n",
       "<table border=\"1\" class=\"dataframe\">\n",
       "  <thead>\n",
       "    <tr style=\"text-align: right;\">\n",
       "      <th></th>\n",
       "      <th>Wochentag</th>\n",
       "      <th>Anzahl Spiele</th>\n",
       "      <th>Punkte gesamt</th>\n",
       "      <th>Punkte pro Spiel</th>\n",
       "    </tr>\n",
       "  </thead>\n",
       "  <tbody>\n",
       "    <tr>\n",
       "      <th>0</th>\n",
       "      <td>Freitag</td>\n",
       "      <td>13</td>\n",
       "      <td>23</td>\n",
       "      <td>1.769231</td>\n",
       "    </tr>\n",
       "    <tr>\n",
       "      <th>1</th>\n",
       "      <td>Samstag</td>\n",
       "      <td>74</td>\n",
       "      <td>110</td>\n",
       "      <td>1.486486</td>\n",
       "    </tr>\n",
       "    <tr>\n",
       "      <th>2</th>\n",
       "      <td>Sonntag</td>\n",
       "      <td>23</td>\n",
       "      <td>34</td>\n",
       "      <td>1.478261</td>\n",
       "    </tr>\n",
       "    <tr>\n",
       "      <th>3</th>\n",
       "      <td>Wochentags</td>\n",
       "      <td>11</td>\n",
       "      <td>17</td>\n",
       "      <td>1.545455</td>\n",
       "    </tr>\n",
       "    <tr>\n",
       "      <th>Summe</th>\n",
       "      <td>FreitagSamstagSonntagWochentags</td>\n",
       "      <td>121</td>\n",
       "      <td>184</td>\n",
       "      <td>6.279433</td>\n",
       "    </tr>\n",
       "  </tbody>\n",
       "</table>\n",
       "</div>"
      ],
      "text/plain": [
       "                             Wochentag  Anzahl Spiele  Punkte gesamt  \\\n",
       "0                              Freitag             13             23   \n",
       "1                              Samstag             74            110   \n",
       "2                              Sonntag             23             34   \n",
       "3                           Wochentags             11             17   \n",
       "Summe  FreitagSamstagSonntagWochentags            121            184   \n",
       "\n",
       "       Punkte pro Spiel  \n",
       "0              1.769231  \n",
       "1              1.486486  \n",
       "2              1.478261  \n",
       "3              1.545455  \n",
       "Summe          6.279433  "
      ]
     },
     "metadata": {},
     "output_type": "display_data"
    }
   ],
   "source": [
    "display(comparison)\n",
    "comparison.at['Summe','Wochentag'] = \"Summe\"\n",
    "comparison.at['Summe','Punkte pro Spiel'] = (comparison.at['Summe','Punkte gesamt'] / comparison.at['Summe','Anzahl Spiele'])"
   ]
  },
  {
   "cell_type": "code",
   "execution_count": 23,
   "metadata": {},
   "outputs": [
    {
     "data": {
      "text/html": [
       "<div>\n",
       "<style scoped>\n",
       "    .dataframe tbody tr th:only-of-type {\n",
       "        vertical-align: middle;\n",
       "    }\n",
       "\n",
       "    .dataframe tbody tr th {\n",
       "        vertical-align: top;\n",
       "    }\n",
       "\n",
       "    .dataframe thead th {\n",
       "        text-align: right;\n",
       "    }\n",
       "</style>\n",
       "<table border=\"1\" class=\"dataframe\">\n",
       "  <thead>\n",
       "    <tr style=\"text-align: right;\">\n",
       "      <th></th>\n",
       "      <th>Wochentag</th>\n",
       "      <th>Anzahl Spiele</th>\n",
       "      <th>Punkte gesamt</th>\n",
       "      <th>Punkte pro Spiel</th>\n",
       "    </tr>\n",
       "  </thead>\n",
       "  <tbody>\n",
       "    <tr>\n",
       "      <th>0</th>\n",
       "      <td>Freitag</td>\n",
       "      <td>13</td>\n",
       "      <td>23</td>\n",
       "      <td>1.769231</td>\n",
       "    </tr>\n",
       "    <tr>\n",
       "      <th>1</th>\n",
       "      <td>Samstag</td>\n",
       "      <td>74</td>\n",
       "      <td>110</td>\n",
       "      <td>1.486486</td>\n",
       "    </tr>\n",
       "    <tr>\n",
       "      <th>2</th>\n",
       "      <td>Sonntag</td>\n",
       "      <td>23</td>\n",
       "      <td>34</td>\n",
       "      <td>1.478261</td>\n",
       "    </tr>\n",
       "    <tr>\n",
       "      <th>3</th>\n",
       "      <td>Wochentags</td>\n",
       "      <td>11</td>\n",
       "      <td>17</td>\n",
       "      <td>1.545455</td>\n",
       "    </tr>\n",
       "    <tr>\n",
       "      <th>Summe</th>\n",
       "      <td>Summe</td>\n",
       "      <td>121</td>\n",
       "      <td>184</td>\n",
       "      <td>1.520661</td>\n",
       "    </tr>\n",
       "  </tbody>\n",
       "</table>\n",
       "</div>"
      ],
      "text/plain": [
       "        Wochentag  Anzahl Spiele  Punkte gesamt  Punkte pro Spiel\n",
       "0         Freitag             13             23          1.769231\n",
       "1         Samstag             74            110          1.486486\n",
       "2         Sonntag             23             34          1.478261\n",
       "3      Wochentags             11             17          1.545455\n",
       "Summe       Summe            121            184          1.520661"
      ]
     },
     "execution_count": 23,
     "metadata": {},
     "output_type": "execute_result"
    }
   ],
   "source": [
    "comparison"
   ]
  },
  {
   "cell_type": "code",
   "execution_count": 24,
   "metadata": {},
   "outputs": [
    {
     "data": {
      "image/png": "[encoded data removed]",
      "text/plain": [
       "<Figure size 640x480 with 1 Axes>"
      ]
     },
     "metadata": {},
     "output_type": "display_data"
    }
   ],
   "source": [
    "fig, ax = plt.subplots()\n",
    "plot_ppg = sns.barplot(data=comparison, x=\"Wochentag\", y=\"Punkte pro Spiel\", palette=\"Greens\").set(title=\"Punkte pro Spiel nach Wochentag (Saisons 19/20 - 22/23):\")\n",
    "ax.set_ylim(0, 3)\n",
    "for i in ax.containers:\n",
    "    ax.bar_label(i,)\n"
   ]
  }
 ],
 "metadata": {
  "kernelspec": {
   "display_name": "base",
   "language": "python",
   "name": "python3"
  },
  "language_info": {
   "codemirror_mode": {
    "name": "ipython",
    "version": 3
   },
   "file_extension": ".py",
   "mimetype": "text/x-python",
   "name": "python",
   "nbconvert_exporter": "python",
   "pygments_lexer": "ipython3",
   "version": "3.9.13"
  },
  "orig_nbformat": 4,
  "vscode": {
   "interpreter": {
    "hash": "c219ef7cfa4ef40a84e1c780eaa6910615cd3ff7bb14ee17c8285954d59c91b1"
   }
  }
 },
 "nbformat": 4,
 "nbformat_minor": 2
}
